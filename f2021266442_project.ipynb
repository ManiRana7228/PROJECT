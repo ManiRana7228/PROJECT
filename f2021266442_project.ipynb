{
 "cells": [
  {
   "cell_type": "code",
   "execution_count": 6,
   "metadata": {},
   "outputs": [
    {
     "name": "stdout",
     "output_type": "stream",
     "text": [
      "Missing Values:\n",
      "age         0\n",
      "sex         0\n",
      "bmi         0\n",
      "children    0\n",
      "smoker      0\n",
      "region      0\n",
      "charges     0\n",
      "dtype: int64\n"
     ]
    }
   ],
   "source": [
    "import pandas as pd\n",
    "import numpy as np\n",
    "import matplotlib.pyplot as plt\n",
    "import seaborn as sns\n",
    "from sklearn.preprocessing import StandardScaler, LabelEncoder\n",
    "from sklearn.model_selection import train_test_split\n",
    "from sklearn.linear_model import LinearRegression\n",
    "from sklearn.ensemble import RandomForestRegressor, GradientBoostingRegressor\n",
    "from sklearn.tree import DecisionTreeRegressor\n",
    "from sklearn.metrics import mean_squared_error, mean_absolute_error, r2_score\n",
    "\n",
    "# Step 1: Data Preprocessing\n",
    "# Load the dataset\n",
    "df = pd.read_csv(r'C:/m.py/insurance.csv')\n",
    "\n",
    "# Handle missing values (if any)\n",
    "missing_values = df.isnull().sum()\n",
    "print(\"Missing Values:\")\n",
    "print(missing_values)\n",
    "\n"
   ]
  },
  {
   "cell_type": "code",
   "execution_count": 7,
   "metadata": {},
   "outputs": [
    {
     "name": "stdout",
     "output_type": "stream",
     "text": [
      "  Category Original Value  Encoded Value\n",
      "0      sex         female              0\n",
      "1      sex           male              1\n",
      "2   smoker             no              0\n",
      "3   smoker            yes              1\n",
      "4   region      northeast              0\n",
      "5   region      northwest              1\n",
      "6   region      southeast              2\n",
      "7   region      southwest              3\n"
     ]
    }
   ],
   "source": [
    "# Encode categorical variables and create a summary table\n",
    "def encode_and_create_summary(df, column):\n",
    "    le = LabelEncoder()\n",
    "    df[column] = le.fit_transform(df[column])\n",
    "    categories = le.classes_\n",
    "    encoded_values = le.transform(categories)\n",
    "    return categories, encoded_values\n",
    "\n",
    "sex_categories, sex_encoded = encode_and_create_summary(df, 'sex')\n",
    "smoker_categories, smoker_encoded = encode_and_create_summary(df, 'smoker')\n",
    "region_categories, region_encoded = encode_and_create_summary(df, 'region')\n",
    "\n",
    "# Creating a summary table\n",
    "encoding_summary = {\n",
    "    'Category': ['sex'] * len(sex_categories) + ['smoker'] * len(smoker_categories) + ['region'] * len(region_categories),\n",
    "    'Original Value': list(sex_categories) + list(smoker_categories) + list(region_categories),\n",
    "    'Encoded Value': list(sex_encoded) + list(smoker_encoded) + list(region_encoded)\n",
    "}\n",
    "\n",
    "encoding_summary_df = pd.DataFrame(encoding_summary)\n",
    "print(encoding_summary_df)"
   ]
  },
  {
   "cell_type": "code",
   "execution_count": null,
   "metadata": {},
   "outputs": [],
   "source": []
  },
  {
   "cell_type": "code",
   "execution_count": null,
   "metadata": {},
   "outputs": [],
   "source": []
  }
 ],
 "metadata": {
  "kernelspec": {
   "display_name": "Python 3",
   "language": "python",
   "name": "python3"
  },
  "language_info": {
   "codemirror_mode": {
    "name": "ipython",
    "version": 3
   },
   "file_extension": ".py",
   "mimetype": "text/x-python",
   "name": "python",
   "nbconvert_exporter": "python",
   "pygments_lexer": "ipython3",
   "version": "3.11.9"
  }
 },
 "nbformat": 4,
 "nbformat_minor": 2
}
